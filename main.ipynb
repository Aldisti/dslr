{
 "cells": [
  {
   "cell_type": "code",
   "execution_count": 7,
   "metadata": {},
   "outputs": [],
   "source": [
    "from matplotlib import pyplot as plt\n",
    "from datetime import datetime\n",
    "from math import sqrt"
   ]
  },
  {
   "cell_type": "code",
   "execution_count": 8,
   "metadata": {},
   "outputs": [],
   "source": [
    "def to_date(n: int) -> str:\n",
    "    return datetime.fromtimestamp(n).strftime(\"%d-%m-%Y\")\n",
    "\n",
    "def to_unix(date: str, format: str=\"%Y-%m-%d\") -> int:\n",
    "    return datetime.strptime(date, format).timestamp()"
   ]
  },
  {
   "cell_type": "code",
   "execution_count": 16,
   "metadata": {},
   "outputs": [],
   "source": [
    "FILE = r'datasets/dataset_train.csv'\n",
    "\n",
    "with open(FILE) as file:\n",
    "    lines = file.readlines()\n",
    "\n",
    "data = {}\n",
    "headers = []\n",
    "\n",
    "for header in lines[0].split(','):\n",
    "    header = header.lower()\n",
    "    if header not in ['index', 'hogwarts house', 'first name', 'last name', 'best hand']:\n",
    "        data[header] = []\n",
    "    headers.append(header)\n",
    "\n",
    "for line in lines[1:]:\n",
    "    line = line.replace(',,,', ',0,0,').replace(',,', ',0,').split(',')\n",
    "    for i, value in enumerate(line):\n",
    "        if headers[i] in ['index', 'hogwarts house', 'first name', 'last name', 'best hand']:\n",
    "            continue\n",
    "        if headers[i] == 'birthday':\n",
    "            value = to_unix(value)\n",
    "        else:\n",
    "            try:\n",
    "                value = float(value)\n",
    "            except ValueError:\n",
    "                print(f\"|{line}|{value}| is not a number\")\n",
    "        data[headers[i]].append(value)"
   ]
  },
  {
   "cell_type": "code",
   "execution_count": 17,
   "metadata": {},
   "outputs": [],
   "source": [
    "\n",
    "def ft_mean(values: list[int|float]) -> float:\n",
    "    return sum(values) / len(values)\n",
    "\n",
    "def ft_std(values: list[int|float]) -> float:\n",
    "    mean = ft_mean(values)\n",
    "    summation = 0\n",
    "    for n in values:\n",
    "        summation += (n - mean) ** 2\n",
    "    return sqrt(summation / (len(values) - 1))\n",
    "\n",
    "def ft_min(values: list[int|float]) -> float:\n",
    "    minimum = values[0]\n",
    "    for value in values:\n",
    "        if value < minimum:\n",
    "            minimum = value\n",
    "    return minimum\n",
    "\n",
    "def ft_q(values: list[int|float], perc: float) -> float:\n",
    "    values = sorted(values)\n",
    "    index = perc * (len(values) + 1)\n",
    "    if index.is_integer():\n",
    "        return values[int(index)]\n",
    "\n",
    "    i_low = int(index)\n",
    "    i_high = int(index) + 1\n",
    "    return values[i_low] + (index - i_low) * (values[i_high] - values[i_low])\n",
    "\n",
    "def ft_q1(values: list[int|float]) -> float:\n",
    "    return ft_q(values, 0.25)\n",
    "\n",
    "def ft_q2(values: list[int|float]) -> float:\n",
    "    return ft_q(values, 0.5)\n",
    "\n",
    "def ft_q3(values: list[int|float]) -> float:\n",
    "    return ft_q(values, 0.75)\n",
    "\n",
    "def ft_max(values: list[int|float]) -> float:\n",
    "    maximum = values[0]\n",
    "    for value in values:\n",
    "        if value > maximum:\n",
    "            maximum = value\n",
    "    return maximum\n"
   ]
  },
  {
   "cell_type": "code",
   "execution_count": 18,
   "metadata": {},
   "outputs": [],
   "source": [
    "methods = {\n",
    "    'Count': len,\n",
    "    'Mean': ft_mean,\n",
    "    'Std': ft_std,\n",
    "    'Min': ft_min,\n",
    "    '25%': ft_q1,\n",
    "    '50%': ft_q2,\n",
    "    '75%': ft_q3,\n",
    "    'Max': ft_max,\n",
    "}"
   ]
  },
  {
   "cell_type": "code",
   "execution_count": null,
   "metadata": {},
   "outputs": [
    {
     "name": "stdout",
     "output_type": "stream",
     "text": [
      "                                birthday          arithmancy           astronomy           herbologydefense against the dark arts          divination      muggle studies       ancient runes    history of magic     transfiguration             potionscare of magical creatures              charms             flying\n",
      "\n",
      "Count                               1600                1600                1600                1600                1600                1600                1600                1600                1600                1600                1600                1600                1600                1600\n",
      "Mean                        924892323.75         48579.83562            39.00119             1.11749            -0.38035             3.07703          -219.67701           484.90348             2.88346          1008.20739              5.8388            -0.05209          -243.37441            21.95801\n",
      "Std                        45130918.2829            17988.08           515.09587             5.16809             5.16229             4.13305           482.11396           127.71487              4.3921           154.88268             3.22101             0.95927             8.78364             97.6316\n",
      "Min                          847407600.0            -24370.0          -966.74055           -10.29566           -10.16212              -8.727         -1086.49683                 0.0            -8.85899                 0.0            -4.69748            -3.31368          -261.04892             -181.47\n",
      "25%                          884559600.0            37512.75          -487.07392            -4.23881            -5.19852               2.929          -574.04458           394.77868             1.77786           1023.2157             3.47802            -0.65035          -250.64693             -41.795\n",
      "50%                          925509600.0             48744.0           239.38641             3.34287            -2.37199              4.5725          -410.74268           456.88608             4.30089          1045.13403             5.83293            -0.00314          -244.86741               -2.48\n",
      "75%                          962834400.0             60574.5           520.24178             5.39329             4.87826               5.642           242.09287           597.01719             5.76895          1058.24263             8.22696              0.5763          -232.53313              51.325\n",
      "Max                         1004828400.0            104956.0          1016.21194             11.6129             9.66741              10.032          1092.38861           745.39622            11.88971           1098.9582            13.53676             3.05655          -225.42814              279.07\n"
     ]
    }
   ],
   "source": [
    "PAD = 20\n",
    "\n",
    "s = \" \" * PAD\n",
    "for header in data.keys():\n",
    "    s += f\"{header:>{PAD}}\"\n",
    "print(s)\n",
    "\n",
    "for method, fun in methods.items():\n",
    "    s = f\"{method:<{PAD}}\"\n",
    "    for header in data.keys():\n",
    "        s += f\"{round(fun(data[header]), 5):>{PAD}}\"\n",
    "    print(s)\n"
   ]
  }
 ],
 "metadata": {
  "kernelspec": {
   "display_name": "usr",
   "language": "python",
   "name": "python3"
  },
  "language_info": {
   "codemirror_mode": {
    "name": "ipython",
    "version": 3
   },
   "file_extension": ".py",
   "mimetype": "text/x-python",
   "name": "python",
   "nbconvert_exporter": "python",
   "pygments_lexer": "ipython3",
   "version": "3.12.7"
  }
 },
 "nbformat": 4,
 "nbformat_minor": 2
}
